{
 "cells": [
  {
   "cell_type": "markdown",
   "id": "02456f81-69de-48d2-9f5b-3ced46853987",
   "metadata": {},
   "source": [
    "# Assignment\n",
    "#### 1) Create Vehicle class and call the methods of class. \n",
    "#### 2) Create Vehicle class and create one method without any body. \n",
    "#### 3) Create Vehicle class and perform method overloading in class. \n",
    "#### 4) Create child class Bus that will be inherit all the methods of the Vehicle class. \n",
    "#### 5) Create Vehicle class and create method of the class and same are integrate with another class. "
   ]
  },
  {
   "cell_type": "markdown",
   "id": "a66644b9-4d4c-489d-a387-8f0da08a2fbe",
   "metadata": {},
   "source": [
    "# Program # 1"
   ]
  },
  {
   "cell_type": "code",
   "execution_count": 3,
   "id": "dc1f63c0-4b81-4b13-bd3b-8dbe2fe99414",
   "metadata": {},
   "outputs": [
    {
     "name": "stdout",
     "output_type": "stream",
     "text": [
      "Vehicle Name :  Mehran\n",
      "Vehicle Mileage :  21\n"
     ]
    }
   ],
   "source": [
    "class Vehicle: \n",
    "    def __init__(self, name = None, mileage = None):\n",
    "        self.name = name \n",
    "        self.mileage = mileage \n",
    "    def show(self): \n",
    "        print(\"Vehicle Name : \", self.name)\n",
    "        print(\"Vehicle Mileage : \", self.mileage) \n",
    "obj = Vehicle('Mehran', 21) \n",
    "obj.show() \n",
    "        \n",
    "    "
   ]
  },
  {
   "cell_type": "markdown",
   "id": "07b56029-2795-44f1-89a1-3722c9aabaca",
   "metadata": {},
   "source": [
    "# Program # 2 "
   ]
  },
  {
   "cell_type": "code",
   "execution_count": 4,
   "id": "fa84d9b0-e202-4c1d-8452-53eb36e8b2c1",
   "metadata": {},
   "outputs": [
    {
     "name": "stdout",
     "output_type": "stream",
     "text": [
      "Vehicle Name : Mehran\n",
      "Vehicle Name : Honda\n",
      "Vehicle Name : Toyota\n"
     ]
    }
   ],
   "source": [
    "class Vehicle: \n",
    "    def vehicle_name(self): \n",
    "        pass \n",
    "class Mehran(Vehicle): \n",
    "    def vehicle_name(self): \n",
    "        print('Vehicle Name : Mehran') \n",
    "class Honda(Vehicle): \n",
    "    def vehicle_name(self): \n",
    "        print('Vehicle Name : Honda') \n",
    "class Toyota(Vehicle): \n",
    "    def vehicle_name(self): \n",
    "        print('Vehicle Name : Toyota') \n",
    "obj = Mehran() \n",
    "obj.vehicle_name() \n",
    "obj = Honda() \n",
    "obj.vehicle_name() \n",
    "obj = Toyota() \n",
    "obj.vehicle_name() "
   ]
  },
  {
   "cell_type": "markdown",
   "id": "79124285-0c21-4887-93d3-79a516e27ff1",
   "metadata": {},
   "source": [
    "# Program # 3 "
   ]
  },
  {
   "cell_type": "code",
   "execution_count": 11,
   "id": "ac0deab2-6c9c-4213-923b-8a4abab8050c",
   "metadata": {},
   "outputs": [
    {
     "name": "stdout",
     "output_type": "stream",
     "text": [
      "Object of Vehicle Class has been created!\n",
      "Name :  Mehran\n",
      "Mileage :  123\n",
      "None\n",
      "Name :  Mehran\n",
      "Mileage :  122\n",
      "None\n"
     ]
    }
   ],
   "source": [
    "class Vehicle: \n",
    "    def name(self, name:str = None, mileage:int = None, owner:str = None): \n",
    "        if name!=None and mileage!=None: \n",
    "            print('Name : ', name) \n",
    "            print('Mileage : ', mileage) \n",
    "        elif name!=None and mileage!=None and owner!=None: \n",
    "            print('Name : ', name) \n",
    "            print('Mileage : ', mileage) \n",
    "            print('Owner : ', owner)\n",
    "        else: \n",
    "            print('Object of Vehicle Class has been created!') \n",
    "obj = Vehicle() \n",
    "obj.name() \n",
    "\n",
    "print(obj.name('Mehran', 123))\n",
    "print(obj.name('Mehran', 122, 12222))\n",
    "\n",
    "            "
   ]
  },
  {
   "cell_type": "markdown",
   "id": "e79422bc-d87a-4e39-a568-45bf21b8a50b",
   "metadata": {},
   "source": [
    "# Program # 4 "
   ]
  },
  {
   "cell_type": "code",
   "execution_count": 19,
   "id": "740f73a7-ea51-486f-9cc2-2b2940a825c5",
   "metadata": {},
   "outputs": [
    {
     "name": "stdout",
     "output_type": "stream",
     "text": [
      "Name :  Mehran\n",
      "Password :  qwerty\n"
     ]
    }
   ],
   "source": [
    "class Vehicle: \n",
    "    def __init__(self): \n",
    "        self._name = 'Mehran' \n",
    "        self._password = 'qwerty'\n",
    "class Bus(Vehicle): \n",
    "    def __init__(self): \n",
    "        super().__init__()\n",
    "        print('Name : ',self._name) \n",
    "        print('Password : ', self._password) \n",
    "obj = Bus() \n"
   ]
  },
  {
   "cell_type": "markdown",
   "id": "ca6866b3-bc26-4e09-8cf3-00f69b7ca894",
   "metadata": {},
   "source": [
    "# Program # 5"
   ]
  },
  {
   "cell_type": "code",
   "execution_count": 20,
   "id": "cde9ca12-6a5d-4f9e-8655-ba2d9968843d",
   "metadata": {},
   "outputs": [
    {
     "name": "stdout",
     "output_type": "stream",
     "text": [
      "The 2022 Toyota Camry's engine is now running.\n",
      "The 2022 Toyota Camry's engine is now stopped.\n",
      "The 2021 Ford Mustang's engine is now running.\n",
      "The 2021 Ford Mustang's engine is now stopped.\n",
      "The 2021 Ford Mustang goes 'Honk! Honk!'\n"
     ]
    }
   ],
   "source": [
    "class Vehicle:\n",
    "    def __init__(self, make, model, year):\n",
    "        self.make = make\n",
    "        self.model = model\n",
    "        self.year = year\n",
    "        self.is_running = False\n",
    "\n",
    "    def start_engine(self):\n",
    "        if not self.is_running:\n",
    "            print(f\"The {self.year} {self.make} {self.model}'s engine is now running.\")\n",
    "            self.is_running = True\n",
    "        else:\n",
    "            print(\"The engine is already running.\")\n",
    "\n",
    "    def stop_engine(self):\n",
    "        if self.is_running:\n",
    "            print(f\"The {self.year} {self.make} {self.model}'s engine is now stopped.\")\n",
    "            self.is_running = False\n",
    "        else:\n",
    "            print(\"The engine is already stopped.\")\n",
    "\n",
    "class Car(Vehicle):\n",
    "    def __init__(self, make, model, year, num_doors):\n",
    "        super().__init__(make, model, year)\n",
    "        self.num_doors = num_doors\n",
    "\n",
    "    def honk(self):\n",
    "        print(f\"The {self.year} {self.make} {self.model} goes 'Honk! Honk!'\")\n",
    "\n",
    "# Example usage:\n",
    "if __name__ == \"__main__\":\n",
    "    # Create a Vehicle instance\n",
    "    vehicle = Vehicle(make=\"Toyota\", model=\"Camry\", year=2022)\n",
    "\n",
    "    # Start and stop the engine\n",
    "    vehicle.start_engine()\n",
    "    vehicle.stop_engine()\n",
    "\n",
    "    # Create a Car instance\n",
    "    car = Car(make=\"Ford\", model=\"Mustang\", year=2021, num_doors=2)\n",
    "\n",
    "    # Start and stop the engine of the car\n",
    "    car.start_engine()\n",
    "    car.stop_engine()\n",
    "\n",
    "    # Honk the car's horn\n",
    "    car.honk()\n"
   ]
  }
 ],
 "metadata": {
  "kernelspec": {
   "display_name": "Python 3 (ipykernel)",
   "language": "python",
   "name": "python3"
  },
  "language_info": {
   "codemirror_mode": {
    "name": "ipython",
    "version": 3
   },
   "file_extension": ".py",
   "mimetype": "text/x-python",
   "name": "python",
   "nbconvert_exporter": "python",
   "pygments_lexer": "ipython3",
   "version": "3.11.5"
  }
 },
 "nbformat": 4,
 "nbformat_minor": 5
}
