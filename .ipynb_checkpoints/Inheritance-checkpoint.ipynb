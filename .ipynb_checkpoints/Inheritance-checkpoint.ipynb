{
 "cells": [
  {
   "cell_type": "markdown",
   "id": "82a4763f-2df4-493a-bcf8-f78f8e9422e0",
   "metadata": {},
   "source": [
    "# Single Inheritence "
   ]
  },
  {
   "cell_type": "code",
   "execution_count": 5,
   "id": "d51ac52e-ab8d-4e6f-9718-2dee4d606bac",
   "metadata": {},
   "outputs": [
    {
     "name": "stdout",
     "output_type": "stream",
     "text": [
      "Parent Class function called\n",
      "Child Class function called\n"
     ]
    }
   ],
   "source": [
    "class ParentClass: \n",
    "    def myfunction(self): \n",
    "        print('Parent Class function called') \n",
    "class ChildClass(ParentClass): \n",
    "    def myfunction2(self): \n",
    "        self.myfunction() \n",
    "        print('Child Class function called') \n",
    "obj = ChildClass()\n",
    "obj.myfunction2() "
   ]
  },
  {
   "cell_type": "markdown",
   "id": "66529df8-202f-468b-afdb-8a3a89534427",
   "metadata": {},
   "source": [
    "# Multilevel Inheritence "
   ]
  },
  {
   "cell_type": "code",
   "execution_count": 9,
   "id": "88233694-4c4b-40fc-ae2d-df9bcb18550f",
   "metadata": {},
   "outputs": [
    {
     "name": "stdout",
     "output_type": "stream",
     "text": [
      "Parent class\n",
      "Child class\n",
      "Grand Child class\n"
     ]
    }
   ],
   "source": [
    "class ParentClass: \n",
    "    def myfunction(self): \n",
    "        print('Parent class') \n",
    "   \n",
    "class ChildClass(ParentClass): \n",
    "    def myfunction1(self): \n",
    "        print('Child class') \n",
    "   \n",
    "class GrandChildClass(ChildClass): \n",
    "    def myfunction2(self): \n",
    "        self.myfunction() \n",
    "        self.myfunction1() \n",
    "        print('Grand Child class') \n",
    "obj = GrandChildClass() \n",
    "obj.myfunction2() "
   ]
  },
  {
   "cell_type": "markdown",
   "id": "5f952c8e-d49b-4841-a1c7-88009d482e31",
   "metadata": {},
   "source": [
    "# Multiple Inheritance "
   ]
  },
  {
   "cell_type": "code",
   "execution_count": 10,
   "id": "9fcbc756-600e-4a9e-9656-01e236741e90",
   "metadata": {},
   "outputs": [
    {
     "name": "stdout",
     "output_type": "stream",
     "text": [
      "Parent class\n",
      "Child class\n",
      "Grand Child class\n"
     ]
    }
   ],
   "source": [
    "class ParentClass: \n",
    "    def myfunction(self): \n",
    "        print('Parent class') \n",
    "   \n",
    "class ChildClass: \n",
    "    def myfunction1(self): \n",
    "        print('Child class') \n",
    "   \n",
    "class GrandChildClass(ParentClass,ChildClass): \n",
    "    def myfunction2(self): \n",
    "        self.myfunction() \n",
    "        self.myfunction1() \n",
    "        print('Grand Child class') \n",
    "obj = GrandChildClass() \n",
    "obj.myfunction2() "
   ]
  },
  {
   "cell_type": "markdown",
   "id": "3cdad8af-8153-41e5-9c90-a840307cb854",
   "metadata": {},
   "source": [
    "# Hierarchical Inheritance"
   ]
  },
  {
   "cell_type": "code",
   "execution_count": 13,
   "id": "b6e41229-883c-4b21-8dfb-2f45dd5c3bf5",
   "metadata": {},
   "outputs": [
    {
     "name": "stdout",
     "output_type": "stream",
     "text": [
      "Parent class\n",
      "Grand Child class\n",
      "Parent class\n",
      "Child class\n"
     ]
    }
   ],
   "source": [
    "class ParentClass: \n",
    "    def myfunction(self): \n",
    "        print('Parent class') \n",
    "   \n",
    "class ChildClass(ParentClass): \n",
    "    def myfunction1(self): \n",
    "        self.myfunction() \n",
    "        print('Child class') \n",
    "   \n",
    "class GrandChildClass(ParentClass): \n",
    "    def myfunction2(self): \n",
    "        self.myfunction() \n",
    "        print('Grand Child class') \n",
    "obj = GrandChildClass() \n",
    "obj1 = ChildClass() \n",
    "obj.myfunction2() \n",
    "obj1.myfunction1()"
   ]
  },
  {
   "cell_type": "markdown",
   "id": "6d2e42a0-fd0d-419b-b018-6be96cf1bc75",
   "metadata": {},
   "source": [
    "# Hybrid Inheritance "
   ]
  },
  {
   "cell_type": "code",
   "execution_count": 15,
   "id": "6daa6d3e-daec-4859-9519-8ab46d9d79d2",
   "metadata": {},
   "outputs": [
    {
     "name": "stdout",
     "output_type": "stream",
     "text": [
      "Parent Class Called\n",
      "Child Class1 Called\n",
      "Child Class2 Called\n",
      "Grand Child Called\n"
     ]
    }
   ],
   "source": [
    "class ParentClass: \n",
    "    def myfunction(self): \n",
    "        print('Parent Class Called') \n",
    "class ChildClass1(ParentClass): \n",
    "    def myfunction1(self): \n",
    "        print('Child Class1 Called') \n",
    "class ChildClass2(ParentClass): \n",
    "    def myfunction2(self): \n",
    "        print('Child Class2 Called')\n",
    "class GrandChild(ChildClass1, ChildClass2): \n",
    "    def myfunction3(self): \n",
    "        self.myfunction() \n",
    "        self.myfunction1() \n",
    "        self.myfunction2() \n",
    "        print('Grand Child Called') \n",
    "obj = GrandChild()\n",
    "obj.myfunction3() \n",
    "        "
   ]
  }
 ],
 "metadata": {
  "kernelspec": {
   "display_name": "Python 3 (ipykernel)",
   "language": "python",
   "name": "python3"
  },
  "language_info": {
   "codemirror_mode": {
    "name": "ipython",
    "version": 3
   },
   "file_extension": ".py",
   "mimetype": "text/x-python",
   "name": "python",
   "nbconvert_exporter": "python",
   "pygments_lexer": "ipython3",
   "version": "3.11.5"
  }
 },
 "nbformat": 4,
 "nbformat_minor": 5
}
