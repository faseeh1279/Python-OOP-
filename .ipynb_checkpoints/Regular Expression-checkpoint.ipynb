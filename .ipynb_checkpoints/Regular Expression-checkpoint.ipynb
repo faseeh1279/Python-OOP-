{
 "cells": [
  {
   "cell_type": "markdown",
   "id": "bf424b68-c860-4cdf-99a1-fe3e6875fd41",
   "metadata": {},
   "source": [
    "# Regular Expression\n",
    "##### A Regular Expression (RegEx) is a sequence of characters that defines a search pattern. \n",
    "##### For using regular expression \"import re\" module \n",
    "# The are two types of Functions \n",
    "## 1) Match Function \n",
    "##### This function determines if the RE matches at the begining of the string. \n",
    "##### Syntax:- re.match(pattern, string) \n",
    "##### Pattern: This is regular expression to be matched. \n",
    "##### String: This is the string, which would be searched to match the pattern at the begining of string.\n",
    "## 2) Search Function\n",
    "##### Scan through a string, looking for any location where this RE matches. \n",
    "##### Syntax:- re.search(pattern, string) \n",
    "##### Pattern: This is the regular expression to be matched. \n",
    "##### String: This is the string, which would be searched to match the pattern at the begining of the string. \n",
    "## 3) Replace Function\n",
    "##### Python regex offers sub() the subn() methods to search and replace patterns in the string. Using this method we can replace one or more occurances of a regex pattern in the target string with a substitute string. \n",
    "##### Syntax: re.sub(pattern, replace, string). "
   ]
  },
  {
   "cell_type": "markdown",
   "id": "b019a6db-a004-4ca7-9492-ed10e151d860",
   "metadata": {},
   "source": [
    "# Match Function"
   ]
  },
  {
   "cell_type": "code",
   "execution_count": 2,
   "id": "a1dba756-e353-40be-a346-5362b19d9ac3",
   "metadata": {},
   "outputs": [
    {
     "name": "stdout",
     "output_type": "stream",
     "text": [
      "<re.Match object; span=(0, 3), match='abc'>\n"
     ]
    }
   ],
   "source": [
    "import re \n",
    "pattern = r\"^abc\"     # ^ this means begining side \n",
    "mystring = \"abcdef\" \n",
    "print(re.match(pattern, mystring)) "
   ]
  },
  {
   "cell_type": "markdown",
   "id": "9ecba0d6-a0bb-4926-905d-126642f7a6cc",
   "metadata": {},
   "source": [
    "# Search Function"
   ]
  },
  {
   "cell_type": "code",
   "execution_count": 7,
   "id": "70ee8393-e796-4471-9fa5-36f87e8f35a9",
   "metadata": {},
   "outputs": [
    {
     "name": "stdout",
     "output_type": "stream",
     "text": [
      "<re.Match object; span=(18, 25), match='Khokhar'>\n",
      "Welcome Mr. Khokhar\n"
     ]
    }
   ],
   "source": [
    "pattern = \"Khokhar\"\n",
    "mystring = \"My name is Faseeh Khokhar\" \n",
    "x = re.search(pattern, mystring)\n",
    "print(x) \n",
    "print(f'Welcome Mr. {mystring[18:25]}') "
   ]
  },
  {
   "cell_type": "markdown",
   "id": "42aeadb4-6b86-4af1-90e2-679814489fc2",
   "metadata": {},
   "source": [
    "# Replace Function"
   ]
  },
  {
   "cell_type": "code",
   "execution_count": 11,
   "id": "47c07eb5-0570-4451-b0e0-145a988d5856",
   "metadata": {},
   "outputs": [
    {
     "name": "stdout",
     "output_type": "stream",
     "text": [
      "My name is Dr. Muhammad Faseeh Raza Khokhar\n"
     ]
    }
   ],
   "source": [
    "pattern = \"My name is \" \n",
    "string = \"My name is Muhammad Faseeh Raza Khokhar\"\n",
    "replace = f\"{pattern}Dr. \"\n",
    "\n",
    "x = re.sub(pattern, replace, string) \n",
    "print(x) "
   ]
  },
  {
   "cell_type": "markdown",
   "id": "227500e4-63ad-4e18-9d44-47879071a0c4",
   "metadata": {},
   "source": [
    "# Assignment \n",
    "### 1) Write a program to check that a string contains a certain set of characters (in this case a-z, A-Z, 0-9)\n",
    "### 2) Write a program that matches the wrod at the begining of the string. \n",
    "### 3) Write a program to match a string that contains only upper and lowercase letters. \n",
    "### 4) Write a program to replace a word from a string. \n",
    "### 5) Write a program to search the number (0-9) of length between 1 to 3 in a string. "
   ]
  },
  {
   "cell_type": "markdown",
   "id": "78291b70-e2d7-4627-b90e-38ff827906a4",
   "metadata": {},
   "source": [
    "# Program # 1 "
   ]
  },
  {
   "cell_type": "code",
   "execution_count": 15,
   "id": "dc4bdf16-2170-48a1-bef0-d745f4ec6b81",
   "metadata": {},
   "outputs": [
    {
     "name": "stdout",
     "output_type": "stream",
     "text": [
      "None\n",
      "<re.Match object; span=(0, 13), match='KhokharABCDEF'>\n",
      "KhokharABCDEF\n"
     ]
    }
   ],
   "source": [
    "pattern = r\"^[a-zA-Z0-9]+$\"\n",
    "# \"^\" means that at the begining of the string \n",
    "# \"[a-zA-Z0-9]\" means that these a to z, A to Z, 0-9 should not be a match \n",
    "# \"+\" requires that the previous character class occurs one or more than one time. \n",
    "# \"$\" means that match until the end of the string \n",
    "myString = 'faseehraza1279@gmail.com'\n",
    "print(re.match(pattern, myString)) \n",
    "myString = \"KhokharABCDEF\" \n",
    "print(re.match(pattern, myString)) \n",
    "print(myString[0:13]) "
   ]
  },
  {
   "cell_type": "markdown",
   "id": "eb0dbbee-fcee-4d58-8388-5a98e2613312",
   "metadata": {},
   "source": [
    "# Program # 2 "
   ]
  },
  {
   "cell_type": "code",
   "execution_count": 17,
   "id": "94f0928d-fb98-43ba-99e5-93e7f01e19ff",
   "metadata": {},
   "outputs": [
    {
     "name": "stdout",
     "output_type": "stream",
     "text": [
      "<re.Match object; span=(0, 7), match='khokhar'>\n",
      "None\n"
     ]
    }
   ],
   "source": [
    "pattern = r\"^khokhar\" \n",
    "mystring = \"khokharfaseeh\" \n",
    "second_string = \"faseehkhokhar\" \n",
    "print(re.match(pattern, mystring)) \n",
    "print(re.match(pattern, second_string)) "
   ]
  },
  {
   "cell_type": "markdown",
   "id": "50da5d4f-b21f-42fc-ba3f-78156c273e63",
   "metadata": {},
   "source": [
    "# Program # 3 "
   ]
  },
  {
   "cell_type": "code",
   "execution_count": 23,
   "id": "0998ed46-9fdc-44be-81c2-e62c0d90dc9c",
   "metadata": {},
   "outputs": [
    {
     "name": "stdout",
     "output_type": "stream",
     "text": [
      "None\n",
      "None\n",
      "<re.Match object; span=(0, 11), match='03008748760'>\n"
     ]
    }
   ],
   "source": [
    "pattern = r\"^[0-9]+$\"\n",
    "mystring = \"132K123O123H123K132H1132A132R310\" \n",
    "mystring2 = \"Ali Haider\" \n",
    "numbers = \"03008748760\"\n",
    "print(re.match(pattern, mystring)) \n",
    "print(re.match(pattern, mystring2)) \n",
    "print(re.match(pattern, numbers)) "
   ]
  },
  {
   "cell_type": "markdown",
   "id": "9069ddcc-6183-4c34-bd14-a4f88a483540",
   "metadata": {},
   "source": [
    "# Program # 4"
   ]
  },
  {
   "cell_type": "code",
   "execution_count": 24,
   "id": "1f437967-7484-45f3-9269-386258d5f0c7",
   "metadata": {},
   "outputs": [
    {
     "name": "stdout",
     "output_type": "stream",
     "text": [
      "my name is faseeh raza Dr. \n"
     ]
    }
   ],
   "source": [
    "pattern = 'khokhar' \n",
    "mystring = 'my name is faseeh raza khokhar' \n",
    "print(re.sub(pattern, 'Dr. ', mystring)) "
   ]
  },
  {
   "cell_type": "markdown",
   "id": "cd10c86d-cbf4-4e23-9161-867d46916b1a",
   "metadata": {},
   "source": [
    "# Program # 5 "
   ]
  },
  {
   "cell_type": "code",
   "execution_count": 33,
   "id": "a2721bb5-f047-4f2f-ab29-571af4e8c035",
   "metadata": {},
   "outputs": [
    {
     "name": "stdout",
     "output_type": "stream",
     "text": [
      "None\n"
     ]
    }
   ],
   "source": [
    "pattern = r\"^1-3+$\"\n",
    "string = \"12323\"\n",
    "print(re.search(pattern, string)) "
   ]
  }
 ],
 "metadata": {
  "kernelspec": {
   "display_name": "Python 3 (ipykernel)",
   "language": "python",
   "name": "python3"
  },
  "language_info": {
   "codemirror_mode": {
    "name": "ipython",
    "version": 3
   },
   "file_extension": ".py",
   "mimetype": "text/x-python",
   "name": "python",
   "nbconvert_exporter": "python",
   "pygments_lexer": "ipython3",
   "version": "3.11.5"
  }
 },
 "nbformat": 4,
 "nbformat_minor": 5
}
