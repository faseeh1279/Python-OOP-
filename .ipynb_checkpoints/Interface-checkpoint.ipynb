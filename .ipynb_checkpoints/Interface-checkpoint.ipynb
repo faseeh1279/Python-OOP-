{
 "cells": [
  {
   "cell_type": "markdown",
   "id": "3268283b-54d0-4ab7-87ec-0b9a846b7cd6",
   "metadata": {},
   "source": [
    "#### In Python, The interface concept is not explicitly available, live available in other languages like Java. In Python, an interface is an abstract class which contains only abstract method but not a single concrete method. "
   ]
  },
  {
   "cell_type": "markdown",
   "id": "0040ac97-84f6-47eb-a248-32047b74aee6",
   "metadata": {},
   "source": [
    "# Rules\n",
    "#### All methods of an interface is abstract. We cannot create object of interface. If a class is implementing an interface it has to define all the methods given in the interface. If a class does not implement all the methods declared in the interface, the class must be declared abstract. "
   ]
  },
  {
   "cell_type": "markdown",
   "id": "68ed527c-9233-483e-8218-6d68927d5b3b",
   "metadata": {},
   "source": [
    "# When use Interface. \n",
    "#### We use interface when all features need to be implemented differently for different objects. "
   ]
  },
  {
   "cell_type": "code",
   "execution_count": 4,
   "id": "86aba9c5-44b1-426b-8b66-5f301d503467",
   "metadata": {},
   "outputs": [],
   "source": [
    "from abc import ABC, abstractmethod"
   ]
  },
  {
   "cell_type": "code",
   "execution_count": 9,
   "id": "32a74ad4-bde7-44fe-b818-7d8aa1c82d90",
   "metadata": {},
   "outputs": [
    {
     "name": "stdout",
     "output_type": "stream",
     "text": [
      "Concrete Method or other method\n"
     ]
    }
   ],
   "source": [
    "class Father(ABC): \n",
    "    @abstractmethod\n",
    "    def disp(self): \n",
    "        pass \n",
    "    def show(self): \n",
    "        print('Concrete Method') \n",
    "class Child(Father): \n",
    "    def disp(self): \n",
    "        print('Child class') \n",
    "        print('Defining Abstract Method')\n",
    "    def show(self): \n",
    "        print('Concrete Method or other method') \n",
    "c = Child()\n",
    "c.show()\n"
   ]
  },
  {
   "cell_type": "markdown",
   "id": "e6b41dd3-2fb7-498a-b55e-6ee9ee993481",
   "metadata": {},
   "source": [
    "# Difference between Abstract class and Interface. "
   ]
  },
  {
   "cell_type": "markdown",
   "id": "e6cc5d7e-ef4e-4c0c-99d7-9de14d677f11",
   "metadata": {},
   "source": [
    "\n",
    "- An abstract class can have abstract methods as well as concrete methods, but All methods of an interface are abstract. \n",
    "- We use abstract class when there are more common features shared by all the objects as they are while we use interface if all the features need to be implemented differently for different objects.\n",
    "- Its programer job to write child class for abstract class  while in interface, any third party vendor will take responsibility to write child class.\n",
    "- Interface are relatively slow then abstract class. "
   ]
  },
  {
   "cell_type": "code",
   "execution_count": null,
   "id": "1ca8088f-cf9e-42c5-998b-9153f7411aba",
   "metadata": {},
   "outputs": [],
   "source": []
  }
 ],
 "metadata": {
  "kernelspec": {
   "display_name": "Python 3 (ipykernel)",
   "language": "python",
   "name": "python3"
  },
  "language_info": {
   "codemirror_mode": {
    "name": "ipython",
    "version": 3
   },
   "file_extension": ".py",
   "mimetype": "text/x-python",
   "name": "python",
   "nbconvert_exporter": "python",
   "pygments_lexer": "ipython3",
   "version": "3.11.5"
  }
 },
 "nbformat": 4,
 "nbformat_minor": 5
}
