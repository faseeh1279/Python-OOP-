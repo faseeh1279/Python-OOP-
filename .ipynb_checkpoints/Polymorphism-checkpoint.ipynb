{
 "cells": [
  {
   "cell_type": "markdown",
   "id": "0fe8c62b-7d49-4de7-86d7-396af3f6d130",
   "metadata": {},
   "source": [
    "# There are two types of Polymorphism \n",
    "### 1) Compile Time Polymorphism\n",
    "#####      a) Method Overloading \n",
    "##### Method Overloading is the compile time polymorphism. Method overloading means that having same name methods in the same class, but different arguments. \n",
    "### 2) Runtime Polymorphim \n",
    "#####      a) Method Overriding \n",
    "##### Method Overriding is the runtime polymorphism. Method overriding means having same name methods, but into different class, arguments are also same. In method overriding Inheritance is compulsary. "
   ]
  },
  {
   "cell_type": "markdown",
   "id": "4da76b8d-84e4-48bf-bf4b-c2172d0bf239",
   "metadata": {},
   "source": [
    "# Method Overloading"
   ]
  },
  {
   "cell_type": "code",
   "execution_count": 9,
   "id": "1a5868ac-0253-4311-a5bc-392ec3a1d8eb",
   "metadata": {},
   "outputs": [
    {
     "ename": "TypeError",
     "evalue": "MethodOverloading.myFunction() missing 2 required positional arguments: 'a' and 'b'",
     "output_type": "error",
     "traceback": [
      "\u001b[1;31m---------------------------------------------------------------------------\u001b[0m",
      "\u001b[1;31mTypeError\u001b[0m                                 Traceback (most recent call last)",
      "Cell \u001b[1;32mIn[9], line 11\u001b[0m\n\u001b[0;32m      9\u001b[0m \u001b[38;5;66;03m# Creating an object of class MethodOverloading \u001b[39;00m\n\u001b[0;32m     10\u001b[0m m \u001b[38;5;241m=\u001b[39m MethodOverloading() \n\u001b[1;32m---> 11\u001b[0m \u001b[43mm\u001b[49m\u001b[38;5;241;43m.\u001b[39;49m\u001b[43mmyFunction\u001b[49m\u001b[43m(\u001b[49m\u001b[43m)\u001b[49m\n\u001b[0;32m     12\u001b[0m m\u001b[38;5;241m.\u001b[39mmyFunction(\u001b[38;5;241m12\u001b[39m)\n\u001b[0;32m     13\u001b[0m m\u001b[38;5;241m.\u001b[39mmyFunction(\u001b[38;5;241m12\u001b[39m,\u001b[38;5;241m2\u001b[39m)\n",
      "\u001b[1;31mTypeError\u001b[0m: MethodOverloading.myFunction() missing 2 required positional arguments: 'a' and 'b'"
     ]
    }
   ],
   "source": [
    "class MethodOverloading: \n",
    "    def myFunction(self): # No arguments \n",
    "        print(\"Functions with no arguments\") \n",
    "    def myFunction(self,a): # 1 arguments \n",
    "        print(\"Function with 1 argument\") \n",
    "    def myFunction(self,a,b): # 2 arguments \n",
    "        print(\"Function with 2 argument\") \n",
    "# Creating an object of class MethodOverloading \n",
    "m = MethodOverloading() \n",
    "m.myFunction()\n",
    "m.myFunction(12)\n",
    "m.myFunction(12,2)\n",
    "\n",
    "# Note : Method Overloading is not supported in Python. Because Python is a interpreted Language. "
   ]
  },
  {
   "cell_type": "code",
   "execution_count": 7,
   "id": "5593621c-537a-46f0-9605-f814990b677f",
   "metadata": {},
   "outputs": [
    {
     "name": "stdout",
     "output_type": "stream",
     "text": [
      "14\n",
      "2\n",
      "No Value has been entered yet\n"
     ]
    }
   ],
   "source": [
    "class MethodOverloading: \n",
    "    def myFunction(self, a = None, b = None):\n",
    "        if a!=None and b!=None: \n",
    "            return a+b \n",
    "        elif a!=None: \n",
    "            return a \n",
    "        else: \n",
    "            print('No Value has been entered yet') \n",
    "obj1 = MethodOverloading()\n",
    "print(obj1.myFunction(2,12))\n",
    "print(obj1.myFunction(2))\n",
    "obj1.myFunction()\n",
    "\n"
   ]
  },
  {
   "cell_type": "markdown",
   "id": "74140c6f-c284-4cdd-a527-acb9d491c95e",
   "metadata": {},
   "source": [
    "# Method Overriding "
   ]
  },
  {
   "cell_type": "code",
   "execution_count": 11,
   "id": "cd2151d9-b4c2-4141-8247-57b77c5fee37",
   "metadata": {},
   "outputs": [
    {
     "name": "stdout",
     "output_type": "stream",
     "text": [
      "Class Method Overriding function 3 called\n",
      "Class Method Overriding function 2 called\n",
      "Class Method Overriding function 1 called\n",
      "Class Method Overriding function 2 called\n"
     ]
    }
   ],
   "source": [
    "class MethodOverriding1: \n",
    "    def myFunction(self, a): \n",
    "        print('Class Method Overriding function 1 called') \n",
    "        \n",
    "class MethodOverriding2(MethodOverriding1):\n",
    "    def myFunction(self,a): \n",
    "        print('Class Method Overriding function 2 called') \n",
    "        \n",
    "class MethodOverriding3(MethodOverriding2): \n",
    "    def myFunction(self,a): \n",
    "        print('Class Method Overriding function 3 called') \n",
    "        super().myFunction(20) # super() method can be used to call the immediate overriding function. \n",
    "        \n",
    "obj = MethodOverriding3() \n",
    "obj.myFunction(10) \n",
    "obj1 = MethodOverriding1()\n",
    "obj1.myFunction(20) \n",
    "obj3 = MethodOverriding2()\n",
    "obj3.myFunction(34)"
   ]
  },
  {
   "cell_type": "code",
   "execution_count": 1,
   "id": "07682f52-edc3-4eed-bee1-203267832152",
   "metadata": {},
   "outputs": [
    {
     "name": "stdout",
     "output_type": "stream",
     "text": [
      "1\n",
      "3\n",
      "6\n"
     ]
    }
   ],
   "source": [
    "class Calculator:\n",
    "    def add(self, a, b=None, c=None):\n",
    "        if b is not None and c is not None:\n",
    "            return a + b + c\n",
    "        elif b is not None:\n",
    "            return a + b\n",
    "        else:\n",
    "            return a\n",
    "\n",
    "# Creating an instance of the Calculator class\n",
    "calculator = Calculator()\n",
    "\n",
    "# Testing method overloading\n",
    "result1 = calculator.add(1)\n",
    "result2 = calculator.add(1, 2)\n",
    "result3 = calculator.add(1, 2, 3)\n",
    "\n",
    "print(result1)  # Output: 1\n",
    "print(result2)  # Output: 3\n",
    "print(result3)  # Output: 6\n"
   ]
  },
  {
   "cell_type": "code",
   "execution_count": null,
   "id": "1f0e6a4b-176f-48c6-aaae-7e6f759cf595",
   "metadata": {},
   "outputs": [],
   "source": []
  }
 ],
 "metadata": {
  "kernelspec": {
   "display_name": "Python 3 (ipykernel)",
   "language": "python",
   "name": "python3"
  },
  "language_info": {
   "codemirror_mode": {
    "name": "ipython",
    "version": 3
   },
   "file_extension": ".py",
   "mimetype": "text/x-python",
   "name": "python",
   "nbconvert_exporter": "python",
   "pygments_lexer": "ipython3",
   "version": "3.11.5"
  }
 },
 "nbformat": 4,
 "nbformat_minor": 5
}
