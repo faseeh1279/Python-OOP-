{
 "cells": [
  {
   "cell_type": "markdown",
   "id": "5ed6a249-d4cc-4294-ba57-581fdb0d7cda",
   "metadata": {},
   "source": [
    "# How to create a class "
   ]
  },
  {
   "cell_type": "code",
   "execution_count": 4,
   "id": "b172d37a-a713-4dd5-b6ba-5363c9464797",
   "metadata": {},
   "outputs": [
    {
     "name": "stdout",
     "output_type": "stream",
     "text": [
      "<class '__main__.myclass'>\n"
     ]
    }
   ],
   "source": [
    "class myclass: \n",
    "    x = 5 # Property of class \n",
    "print(myclass) "
   ]
  },
  {
   "cell_type": "markdown",
   "id": "633c72e6-365d-439d-83ba-e6caddcc2217",
   "metadata": {},
   "source": [
    "# How to create object "
   ]
  },
  {
   "cell_type": "code",
   "execution_count": 10,
   "id": "90073846-059f-418f-880a-31fb9126430c",
   "metadata": {},
   "outputs": [
    {
     "name": "stdout",
     "output_type": "stream",
     "text": [
      "5\n"
     ]
    }
   ],
   "source": [
    "class myclass: \n",
    "    x = 5 # Property of class \n",
    "# creating object of myclass \n",
    "obj= myclass() \n",
    "print(obj.x) "
   ]
  },
  {
   "cell_type": "markdown",
   "id": "411cbc8a-8f8d-4c63-a148-03bdeb96386e",
   "metadata": {},
   "source": [
    "# Calling a function by object "
   ]
  },
  {
   "cell_type": "code",
   "execution_count": 12,
   "id": "e08854fc-99f2-4f5e-877c-b8b23510ffd9",
   "metadata": {},
   "outputs": [
    {
     "name": "stdout",
     "output_type": "stream",
     "text": [
      "hello my function\n"
     ]
    }
   ],
   "source": [
    "class myclass: \n",
    "    def myfunction(self): \n",
    "        print('hello my function') \n",
    "obj = myclass() \n",
    "obj.myfunction()"
   ]
  },
  {
   "cell_type": "markdown",
   "id": "f869dd22-127e-46ac-bc4b-31f2c238f0ed",
   "metadata": {},
   "source": [
    "# How to create a constructor "
   ]
  },
  {
   "cell_type": "code",
   "execution_count": 14,
   "id": "9ed40949-07c5-4c04-8c2b-0a29abb45edd",
   "metadata": {},
   "outputs": [
    {
     "name": "stdout",
     "output_type": "stream",
     "text": [
      "This is my constructor\n"
     ]
    }
   ],
   "source": [
    "class myclass: \n",
    "    # Creating a constructor \n",
    "    def __init__(self): \n",
    "        print('This is my constructor') \n",
    "        pass \n",
    "# Creating an object \n",
    "obj = myclass() \n"
   ]
  },
  {
   "cell_type": "markdown",
   "id": "01e6a37e-3de7-4f87-8bdf-0d0c0feaffca",
   "metadata": {},
   "source": [
    "# Changing the value by object "
   ]
  },
  {
   "cell_type": "code",
   "execution_count": 22,
   "id": "21032901-76d8-4a37-903f-4423149feb93",
   "metadata": {},
   "outputs": [
    {
     "name": "stdout",
     "output_type": "stream",
     "text": [
      "Faseeh\n",
      "21\n",
      "My name is Faseeh\n",
      "My age is 21\n",
      "My name is Faseeh\n",
      "My age is 18\n"
     ]
    }
   ],
   "source": [
    "class myclass: \n",
    "    def __init__(self,name,age):\n",
    "        self.name = name \n",
    "        self.age = age \n",
    "    def myfunction(self): \n",
    "        print(f'My name is {self.name}') \n",
    "        print(f'My age is {self.age}') \n",
    "\n",
    "obj = myclass('Faseeh', 21) \n",
    "print(obj.name) \n",
    "print(obj.age) \n",
    "obj.myfunction() \n",
    "# Changing the age using object \n",
    "# This is how to change the values by object \n",
    "obj.age = 18 \n",
    "obj.myfunction()\n"
   ]
  },
  {
   "cell_type": "markdown",
   "id": "d7075a84-7033-4e7b-aa31-8f886e459300",
   "metadata": {},
   "source": [
    "# Deleting the value by object "
   ]
  },
  {
   "cell_type": "code",
   "execution_count": 30,
   "id": "554da3af-8cf3-493c-908a-e62ba305d6be",
   "metadata": {},
   "outputs": [
    {
     "name": "stdout",
     "output_type": "stream",
     "text": [
      "Showing Data\n",
      "Name: Faseeh\n",
      "Age: 21\n"
     ]
    }
   ],
   "source": [
    "class newclass:\n",
    "    def __init__(self, name, age):\n",
    "        self.name = name\n",
    "        self.age = age\n",
    "\n",
    "    def myfunction(self):\n",
    "        try:\n",
    "            print('Showing Data')\n",
    "        except AttributeError as e:\n",
    "            print('AttributeError:', e)\n",
    "        except Exception as e:\n",
    "            print('Exception:', e)\n",
    "        else:\n",
    "            print('Name:', self.name)\n",
    "            print('Age:', self.age)\n",
    "\n",
    "obj = newclass('Faseeh', 21)\n",
    "# del obj.name\n",
    "obj.myfunction()\n"
   ]
  }
 ],
 "metadata": {
  "kernelspec": {
   "display_name": "Python 3 (ipykernel)",
   "language": "python",
   "name": "python3"
  },
  "language_info": {
   "codemirror_mode": {
    "name": "ipython",
    "version": 3
   },
   "file_extension": ".py",
   "mimetype": "text/x-python",
   "name": "python",
   "nbconvert_exporter": "python",
   "pygments_lexer": "ipython3",
   "version": "3.11.5"
  }
 },
 "nbformat": 4,
 "nbformat_minor": 5
}
