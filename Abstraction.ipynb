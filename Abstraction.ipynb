{
 "cells": [
  {
   "cell_type": "markdown",
   "id": "7007359a-5f7b-47ca-bac0-8788aafe497b",
   "metadata": {},
   "source": [
    "# Abstract Method: \n",
    "#### A class that consist of one or more abstract method is called the abstract class. \n",
    "#### Abstract method do not contain their implementation. \n",
    "#### Abstract class can be inherited by the subclass and abstract method gets it's definition in the subclass. \n",
    "#### Abstract methd do not contain a body of it's own."
   ]
  },
  {
   "cell_type": "code",
   "execution_count": 6,
   "id": "e051dba5-7ccd-49fb-bbdc-9018cd35063f",
   "metadata": {},
   "outputs": [
    {
     "name": "stdout",
     "output_type": "stream",
     "text": [
      "SBI interest is 5%\n",
      "HDFC interest is 2%\n"
     ]
    }
   ],
   "source": [
    "class RBI: # Abstract Class\n",
    "    def Interest(self): # Abstract Method \n",
    "        pass \n",
    "class SBI(RBI): # Child Class\n",
    "    def Interest(self): # RBI interest implements here \n",
    "        print('SBI interest is 5%')\n",
    "\n",
    "class HDFC(RBI): # Child Class \n",
    "    def Interest(self): # RBI interest implements here \n",
    "        print('HDFC interest is 2%')  \n",
    "\n",
    "# Creating object of Class SBI \n",
    "s = SBI() \n",
    "\n",
    "# Creating an object of class HDFC \n",
    "h = HDFC() \n",
    "\n",
    "s.Interest() # SBI Interest Method Called \n",
    "h.Interest() # HDFC Interest Method Called "
   ]
  },
  {
   "cell_type": "code",
   "execution_count": 13,
   "id": "b372aae2-55b6-4102-ab36-7bb8c5351b23",
   "metadata": {},
   "outputs": [
    {
     "name": "stdout",
     "output_type": "stream",
     "text": [
      "Bark Bark\n",
      "Meow Meow\n",
      "Hiss Hiss\n"
     ]
    }
   ],
   "source": [
    "class Animal: \n",
    "    def move(self): \n",
    "        pass \n",
    "class Dog(Animal): \n",
    "    def move(self): \n",
    "        print('Bark Bark') \n",
    "class Cat(Animal): \n",
    "    def move(self): \n",
    "        print('Meow Meow')\n",
    "class Snake(Animal): \n",
    "    def move(self): \n",
    "        print(\"Hiss Hiss\") \n",
    "\n",
    "obj1 = Dog() \n",
    "obj2 = Cat() \n",
    "obj1.move()\n",
    "obj2.move()\n",
    "obj1 = Snake() \n",
    "obj1.move()"
   ]
  },
  {
   "cell_type": "markdown",
   "id": "e00b88e7-403f-42dc-a586-8003148a85e6",
   "metadata": {},
   "source": [
    "# Example # 1 "
   ]
  },
  {
   "cell_type": "code",
   "execution_count": 2,
   "id": "5f02b664-2371-4d79-883b-440a49de2da2",
   "metadata": {},
   "outputs": [
    {
     "name": "stdout",
     "output_type": "stream",
     "text": [
      "Name :  Faseeh\n",
      "Email :  faseehraza1279@gmail.com\n",
      "Password :  khokahr\n"
     ]
    }
   ],
   "source": [
    "class Person: \n",
    "    def __init__(self, name, email, password): \n",
    "        self.name = name \n",
    "        self.email = email \n",
    "        self.password = password \n",
    "class Student(Person): \n",
    "    def __init__(self, name, email, password): \n",
    "        super().__init__(name,email,password)\n",
    "        print('Name : ', name) \n",
    "        print('Email : ', email) \n",
    "        print('Password : ', password) \n",
    "obj = Student('Faseeh', 'faseehraza1279@gmail.com', 'khokahr') \n",
    "\n",
    "    "
   ]
  },
  {
   "cell_type": "markdown",
   "id": "1fe1e870-d465-4bb9-b81e-0530dac587d3",
   "metadata": {},
   "source": [
    "# Example # 2"
   ]
  },
  {
   "cell_type": "code",
   "execution_count": 6,
   "id": "74d6e8a4-2beb-4d89-8eb6-f26d12159ed9",
   "metadata": {},
   "outputs": [
    {
     "name": "stdout",
     "output_type": "stream",
     "text": [
      "Student: Alice, Age: 20, Student ID: S12345\n",
      "Teacher: Mr. Smith, Age: 35, Employee ID: T98765\n"
     ]
    }
   ],
   "source": [
    "class Person:\n",
    "    def __init__(self, name, age):\n",
    "        self.name = name\n",
    "        self.age = age\n",
    "\n",
    "    # Subclasses should implement this method\n",
    "    def display_info(self):\n",
    "        pass\n",
    "\n",
    "class Student(Person):\n",
    "    def __init__(self, name, age, student_id):\n",
    "        super().__init__(name, age)\n",
    "        self.student_id = student_id\n",
    "\n",
    "    def display_info(self):\n",
    "        print(f\"Student: {self.name}, Age: {self.age}, Student ID: {self.student_id}\")\n",
    "\n",
    "class Teacher(Person):\n",
    "    def __init__(self, name, age, employee_id):\n",
    "        super().__init__(name, age)\n",
    "        self.employee_id = employee_id\n",
    "\n",
    "    def display_info(self):\n",
    "        print(f\"Teacher: {self.name}, Age: {self.age}, Employee ID: {self.employee_id}\")\n",
    "\n",
    "# Example usage:\n",
    "student1 = Student(\"Alice\", 20, \"S12345\")\n",
    "teacher1 = Teacher(\"Mr. Smith\", 35, \"T98765\")\n",
    "\n",
    "# Polymorphism in action\n",
    "people = [student1, teacher1]\n",
    "\n",
    "for person in people:\n",
    "    person.display_info()\n"
   ]
  }
 ],
 "metadata": {
  "kernelspec": {
   "display_name": "Python 3 (ipykernel)",
   "language": "python",
   "name": "python3"
  },
  "language_info": {
   "codemirror_mode": {
    "name": "ipython",
    "version": 3
   },
   "file_extension": ".py",
   "mimetype": "text/x-python",
   "name": "python",
   "nbconvert_exporter": "python",
   "pygments_lexer": "ipython3",
   "version": "3.11.5"
  }
 },
 "nbformat": 4,
 "nbformat_minor": 5
}
