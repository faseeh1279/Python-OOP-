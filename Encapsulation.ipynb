{
 "cells": [
  {
   "cell_type": "markdown",
   "id": "ebb55f4d-bb9c-4d23-8c51-8fe924ba70d7",
   "metadata": {},
   "source": [
    "# Encapsulation\n",
    "### The process of wrapping up variables and methods into a single entity is known as Encapsulation. \n",
    "# How to Achieve Encapsulation? \n",
    "### _(Single Underscore) == Single Underscore stands for protected. \n",
    "### __(Double Underscore) == Double Underscore stands for private. "
   ]
  },
  {
   "cell_type": "markdown",
   "id": "fa76acfc-00e1-46b2-9f0c-50ff5f6e040c",
   "metadata": {},
   "source": [
    "# Encapulation (Private) "
   ]
  },
  {
   "cell_type": "code",
   "execution_count": 9,
   "id": "8603cb3c-831e-4421-a32f-a85c1c1cedbe",
   "metadata": {},
   "outputs": [
    {
     "ename": "TypeError",
     "evalue": "B.__init__() takes 1 positional argument but 2 were given",
     "output_type": "error",
     "traceback": [
      "\u001b[1;31m---------------------------------------------------------------------------\u001b[0m",
      "\u001b[1;31mTypeError\u001b[0m                                 Traceback (most recent call last)",
      "Cell \u001b[1;32mIn[9], line 14\u001b[0m\n\u001b[0;32m     11\u001b[0m         \u001b[38;5;28mprint\u001b[39m(\u001b[38;5;28mself\u001b[39m\u001b[38;5;241m.\u001b[39m__a) \n\u001b[0;32m     13\u001b[0m \u001b[38;5;66;03m# Creating an object of class B\u001b[39;00m\n\u001b[1;32m---> 14\u001b[0m obj \u001b[38;5;241m=\u001b[39m \u001b[43mB\u001b[49m\u001b[43m(\u001b[49m\u001b[38;5;241;43m20\u001b[39;49m\u001b[43m)\u001b[49m \n\u001b[0;32m     15\u001b[0m obj\u001b[38;5;241m.\u001b[39mshowB() \n",
      "\u001b[1;31mTypeError\u001b[0m: B.__init__() takes 1 positional argument but 2 were given"
     ]
    }
   ],
   "source": [
    "class A: \n",
    "    def __init__(self): \n",
    "        self.__a = 1 # the variable is private variable \n",
    "    def show(self):\n",
    "        # Printing a Private Variable \n",
    "        print('Private Variable', self.__a) \n",
    "class B(A): \n",
    "    def __init__(self): \n",
    "        super().__init__(b) \n",
    "    def showB(self): \n",
    "        print(self.__a) \n",
    "    \n",
    "# Creating an object of class B\n",
    "obj = B(20) \n",
    "obj.showB() "
   ]
  },
  {
   "cell_type": "markdown",
   "id": "153273ba-85d7-4737-9191-7225d43a5a5f",
   "metadata": {},
   "source": [
    "# Encapsulation (Protected) "
   ]
  },
  {
   "cell_type": "code",
   "execution_count": 10,
   "id": "d8ebc068-7f29-44cc-8a43-cc8358ee846e",
   "metadata": {},
   "outputs": [
    {
     "name": "stdout",
     "output_type": "stream",
     "text": [
      "Value :  12\n"
     ]
    }
   ],
   "source": [
    "class A: \n",
    "    def __init__(self): \n",
    "        self._a = 12 \n",
    "        print('Value : ', self._a)\n",
    "class B(A): \n",
    "    def __init__(self): \n",
    "        super().__init__() \n",
    "obj = B()"
   ]
  },
  {
   "cell_type": "code",
   "execution_count": null,
   "id": "4e759832-5490-4bd2-a3e8-58b9a0fd77ed",
   "metadata": {},
   "outputs": [],
   "source": []
  },
  {
   "cell_type": "code",
   "execution_count": null,
   "id": "848c08b6-c279-47b8-9dff-32db85d81316",
   "metadata": {},
   "outputs": [],
   "source": []
  }
 ],
 "metadata": {
  "kernelspec": {
   "display_name": "Python 3 (ipykernel)",
   "language": "python",
   "name": "python3"
  },
  "language_info": {
   "codemirror_mode": {
    "name": "ipython",
    "version": 3
   },
   "file_extension": ".py",
   "mimetype": "text/x-python",
   "name": "python",
   "nbconvert_exporter": "python",
   "pygments_lexer": "ipython3",
   "version": "3.11.5"
  }
 },
 "nbformat": 4,
 "nbformat_minor": 5
}
